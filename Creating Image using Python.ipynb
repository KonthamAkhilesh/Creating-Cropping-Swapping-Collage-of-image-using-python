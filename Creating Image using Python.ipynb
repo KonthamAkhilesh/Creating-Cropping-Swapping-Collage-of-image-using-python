{
 "cells": [
  {
   "cell_type": "code",
   "execution_count": 1,
   "id": "3426f7c1",
   "metadata": {},
   "outputs": [],
   "source": [
    "import cv2\n"
   ]
  },
  {
   "cell_type": "code",
   "execution_count": 2,
   "id": "c254feee",
   "metadata": {},
   "outputs": [],
   "source": [
    "import numpy as np"
   ]
  },
  {
   "cell_type": "code",
   "execution_count": 3,
   "id": "28177ea7",
   "metadata": {},
   "outputs": [],
   "source": [
    "photo=np.zeros([500,1000,3],dtype=np.uint8)"
   ]
  },
  {
   "cell_type": "code",
   "execution_count": 4,
   "id": "e1642d0f",
   "metadata": {},
   "outputs": [],
   "source": [
    "photo2=cv2.circle(photo,(350,150), 50,[255,0,0],3 )\n",
    "\n",
    "photo2=cv2.circle(photo,(450,150), 50,[255,0,0],3 )\n",
    "photo2=cv2.circle(photo,(550,150), 50,[255,0,0],3 )\n",
    "\n",
    "photo2=cv2.circle(photo,(400,240), 50,[0,0,255],3 )\n",
    "photo2=cv2.circle(photo,(500,240), 50,[0,0,255],3 )\n",
    "\n",
    "photo2=cv2.circle(photo,(450,333), 50,[0,255,0],2 )\n",
    "\n",
    "cv2.imshow(\"image\",photo2)\n",
    "cv2.waitKey()\n",
    "cv2.destroyAllWindows()"
   ]
  },
  {
   "cell_type": "code",
   "execution_count": null,
   "id": "d3c15ec5",
   "metadata": {},
   "outputs": [],
   "source": []
  },
  {
   "cell_type": "code",
   "execution_count": null,
   "id": "e650bd31",
   "metadata": {},
   "outputs": [],
   "source": []
  },
  {
   "cell_type": "code",
   "execution_count": null,
   "id": "b7ae3bfb",
   "metadata": {},
   "outputs": [],
   "source": []
  },
  {
   "cell_type": "code",
   "execution_count": null,
   "id": "9b1b4a33",
   "metadata": {},
   "outputs": [],
   "source": []
  }
 ],
 "metadata": {
  "kernelspec": {
   "display_name": "Python 3",
   "language": "python",
   "name": "python3"
  },
  "language_info": {
   "codemirror_mode": {
    "name": "ipython",
    "version": 3
   },
   "file_extension": ".py",
   "mimetype": "text/x-python",
   "name": "python",
   "nbconvert_exporter": "python",
   "pygments_lexer": "ipython3",
   "version": "3.8.8"
  }
 },
 "nbformat": 4,
 "nbformat_minor": 5
}
