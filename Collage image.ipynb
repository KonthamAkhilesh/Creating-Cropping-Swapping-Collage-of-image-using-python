{
 "cells": [
  {
   "cell_type": "code",
   "execution_count": 1,
   "id": "2baf5582",
   "metadata": {},
   "outputs": [],
   "source": [
    "import cv2\n",
    "import numpy"
   ]
  },
  {
   "cell_type": "code",
   "execution_count": 2,
   "id": "6229092d",
   "metadata": {},
   "outputs": [],
   "source": [
    "image1 = cv2.imread('elonmusk.jpg')\n",
    "image2 = cv2.imread('doge.jpg')"
   ]
  },
  {
   "cell_type": "code",
   "execution_count": 3,
   "id": "7b39874c",
   "metadata": {},
   "outputs": [],
   "source": [
    "image1 = image1 [:, 0:262]\n",
    "cv2.imshow('image1', image1)\n",
    "cv2.waitKey()\n",
    "cv2.destroyAllWindows()"
   ]
  },
  {
   "cell_type": "code",
   "execution_count": 4,
   "id": "9236a478",
   "metadata": {},
   "outputs": [],
   "source": [
    "image2 = image2 [0:180,:]\n",
    "cv2.imshow('image2', image2)\n",
    "cv2.waitKey()\n",
    "cv2.destroyAllWindows()"
   ]
  },
  {
   "cell_type": "code",
   "execution_count": 5,
   "id": "dbd6b903",
   "metadata": {},
   "outputs": [],
   "source": [
    "image = cv2.vconcat([image1,image2])\n",
    "cv2.imshow('collage', image)\n",
    "cv2.waitKey()\n",
    "cv2.destroyAllWindows()"
   ]
  },
  {
   "cell_type": "code",
   "execution_count": 6,
   "id": "d038442c",
   "metadata": {},
   "outputs": [],
   "source": [
    "image = cv2.hconcat([image1,image2])\n",
    "cv2.imshow('collage', image)\n",
    "cv2.waitKey()\n",
    "cv2.destroyAllWindows()"
   ]
  },
  {
   "cell_type": "code",
   "execution_count": null,
   "id": "5ae70dbf",
   "metadata": {},
   "outputs": [],
   "source": []
  },
  {
   "cell_type": "code",
   "execution_count": null,
   "id": "64a76dce",
   "metadata": {},
   "outputs": [],
   "source": []
  },
  {
   "cell_type": "code",
   "execution_count": null,
   "id": "c2b57506",
   "metadata": {},
   "outputs": [],
   "source": []
  }
 ],
 "metadata": {
  "kernelspec": {
   "display_name": "Python 3",
   "language": "python",
   "name": "python3"
  },
  "language_info": {
   "codemirror_mode": {
    "name": "ipython",
    "version": 3
   },
   "file_extension": ".py",
   "mimetype": "text/x-python",
   "name": "python",
   "nbconvert_exporter": "python",
   "pygments_lexer": "ipython3",
   "version": "3.8.8"
  }
 },
 "nbformat": 4,
 "nbformat_minor": 5
}
