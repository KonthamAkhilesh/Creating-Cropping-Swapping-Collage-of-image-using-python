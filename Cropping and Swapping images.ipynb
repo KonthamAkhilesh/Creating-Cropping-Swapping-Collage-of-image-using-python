{
 "cells": [
  {
   "cell_type": "code",
   "execution_count": 1,
   "id": "fefee6db",
   "metadata": {},
   "outputs": [],
   "source": [
    "\n",
    "import cv2\n",
    "import numpy\n",
    "\n"
   ]
  },
  {
   "cell_type": "code",
   "execution_count": 2,
   "id": "c07df481",
   "metadata": {},
   "outputs": [],
   "source": [
    "photo1 = cv2.imread('redhat.png')\n",
    "photo2 = cv2.imread('linux.jpg')"
   ]
  },
  {
   "cell_type": "code",
   "execution_count": 3,
   "id": "c89821ed",
   "metadata": {},
   "outputs": [],
   "source": [
    "cv2.imshow('photo1', photo1)\n",
    "cv2.imshow('photo2', photo2)\n",
    "cv2.waitKey()\n",
    "cv2.destroyAllWindows()"
   ]
  },
  {
   "cell_type": "code",
   "execution_count": 4,
   "id": "40fe48cd",
   "metadata": {},
   "outputs": [],
   "source": [
    "cphoto1 = photo1 [:,:150]\n",
    "cphoto2 = photo2 [:,:160]\n",
    "cv2.imshow('cphoto1', cphoto1)\n",
    "cv2.waitKey()\n",
    "cv2.destroyAllWindows()\n",
    "cv2.imshow('cphoto2', cphoto2)\n",
    "cv2.waitKey()\n",
    "cv2.destroyAllWindows()\n",
    " "
   ]
  },
  {
   "cell_type": "code",
   "execution_count": 5,
   "id": "fdfac4a0",
   "metadata": {},
   "outputs": [],
   "source": [
    "photo1 [0:109,0:150] = cphoto2 [0:109,0:150]\n",
    "cv2.imshow('swapped photo 1', photo1)\n",
    "cv2.waitKey()\n",
    "cv2.destroyAllWindows()"
   ]
  },
  {
   "cell_type": "code",
   "execution_count": 6,
   "id": "3d678775",
   "metadata": {},
   "outputs": [],
   "source": [
    "photo3 = cv2.imread('redhat.png')\n",
    "photo4 = cv2.imread('linux.jpg')"
   ]
  },
  {
   "cell_type": "code",
   "execution_count": 7,
   "id": "c69c11da",
   "metadata": {},
   "outputs": [],
   "source": [
    "cphoto3 = photo3 [:,:150]\n",
    "cphoto4 = photo4 [:,:160]\n",
    "cv2.imshow('cphoto3', cphoto3)\n",
    "cv2.waitKey()\n",
    "cv2.destroyAllWindows()\n",
    "cv2.imshow('cphoto4', cphoto4)\n",
    "cv2.waitKey()\n",
    "cv2.destroyAllWindows()\n",
    " "
   ]
  },
  {
   "cell_type": "code",
   "execution_count": 8,
   "id": "59e42032",
   "metadata": {},
   "outputs": [],
   "source": [
    "photo4 [0:109,0:150] = cphoto3 [0:,0:]\n",
    "cv2.imshow('swapped photo 1', photo4)\n",
    "cv2.waitKey()\n",
    "cv2.destroyAllWindows()"
   ]
  },
  {
   "cell_type": "code",
   "execution_count": 9,
   "id": "7a0453f5",
   "metadata": {},
   "outputs": [],
   "source": [
    "cv2.imshow('swapped photo 4',  cphoto4)\n",
    "cv2.waitKey()\n",
    "cv2.destroyAllWindows()"
   ]
  },
  {
   "cell_type": "code",
   "execution_count": null,
   "id": "cad09bbe",
   "metadata": {},
   "outputs": [],
   "source": []
  }
 ],
 "metadata": {
  "kernelspec": {
   "display_name": "Python 3",
   "language": "python",
   "name": "python3"
  },
  "language_info": {
   "codemirror_mode": {
    "name": "ipython",
    "version": 3
   },
   "file_extension": ".py",
   "mimetype": "text/x-python",
   "name": "python",
   "nbconvert_exporter": "python",
   "pygments_lexer": "ipython3",
   "version": "3.8.8"
  }
 },
 "nbformat": 4,
 "nbformat_minor": 5
}
